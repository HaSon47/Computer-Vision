{
 "cells": [
  {
   "cell_type": "markdown",
   "id": "ede337ad",
   "metadata": {},
   "source": [
    "# Image Formation\n",
    "In this topic, you will learn:\n",
    "\n",
    "-- basic geometric primitives (point, line, plane)\n",
    "\n",
    "-- geometric transformation (Rotation, 3D to 2D projections)\n",
    "\n",
    "-- photometric formation (light, shade,...)"
   ]
  },
  {
   "cell_type": "markdown",
   "id": "6410dcea",
   "metadata": {},
   "source": [
    "## 1. Geometric primitives and transformations\n",
    "- homogeneous coordinates"
   ]
  }
 ],
 "metadata": {
  "kernelspec": {
   "display_name": "d2l",
   "language": "python",
   "name": "python3"
  },
  "language_info": {
   "name": "python",
   "version": "3.9.19"
  }
 },
 "nbformat": 4,
 "nbformat_minor": 5
}
